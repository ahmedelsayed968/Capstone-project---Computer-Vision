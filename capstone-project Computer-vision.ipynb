{
 "cells": [
  {
   "cell_type": "markdown",
   "id": "17712ba7",
   "metadata": {},
   "source": [
    "## Importing Libraries"
   ]
  },
  {
   "cell_type": "code",
   "execution_count": 29,
   "id": "aaae013e",
   "metadata": {},
   "outputs": [],
   "source": [
    "import cv2\n",
    "import numpy as np\n"
   ]
  },
  {
   "cell_type": "markdown",
   "id": "797ac930",
   "metadata": {},
   "source": [
    "## Used Method"
   ]
  },
  {
   "cell_type": "code",
   "execution_count": 28,
   "id": "3979a94c",
   "metadata": {},
   "outputs": [],
   "source": [
    "def av_pixels_brightness(image,size,circles):\n",
    "    av_pixels =[]\n",
    "    for (x,y,r) in circles[0,:]:\n",
    "        avg = np.mean(image[y-size:y+size,x-size:x+size])\n",
    "        av_pixels.append(avg)\n",
    "    return av_pixels    \n",
    "def get_radius(circles):\n",
    "    radii = []\n",
    "    for coords in circles[0,:]:\n",
    "        radii.append(coords[2])\n",
    "    return radii"
   ]
  },
  {
   "cell_type": "markdown",
   "id": "4095f773",
   "metadata": {},
   "source": [
    "## Loading the Image"
   ]
  },
  {
   "cell_type": "code",
   "execution_count": 30,
   "id": "683eeaca",
   "metadata": {},
   "outputs": [],
   "source": [
    "image_path  = 'E:\\\\projects\\\\pythonProjects\\\\CapstoneProject\\\\19.2 capstone_coins.png'\n",
    "image = cv2.imread(image_path,1)\n",
    "output_image = image.copy()\n",
    "blured_version = cv2.GaussianBlur(image,(5,5),0)\n",
    "gray_version = cv2.cvtColor(blured_version,cv2.COLOR_BGR2GRAY)"
   ]
  },
  {
   "cell_type": "markdown",
   "id": "d9fb5489",
   "metadata": {},
   "source": [
    "## Detect the circles"
   ]
  },
  {
   "cell_type": "code",
   "execution_count": 31,
   "id": "c7b6093d",
   "metadata": {},
   "outputs": [],
   "source": [
    "# detect circles on the image\n",
    "circles  = cv2.HoughCircles(gray_version,cv2.HOUGH_GRADIENT,1,120,\n",
    "                            param1=50,param2=30,minRadius=60,maxRadius=140)"
   ]
  },
  {
   "cell_type": "markdown",
   "id": "a0f8e0a3",
   "metadata": {},
   "source": [
    "## Highlight the objects "
   ]
  },
  {
   "cell_type": "code",
   "execution_count": 33,
   "id": "6891c1e2",
   "metadata": {},
   "outputs": [],
   "source": [
    "if circles is not None:\n",
    "    circles = np.uint16(np.round(circles))\n",
    "    for (x,y,r) in  circles[0,:]:\n",
    "        cv2.circle(output_image, (x, y), r, (0, 255, 0), 2)\n",
    "        cv2.circle(output_image,(x,y),2,(0,0,255),3)\n",
    "#         cv2.putText(output_image,str(count),(x,y),cv2.FONT_HERSHEY_SIMPLEX,2,(0,0,0),3"
   ]
  },
  {
   "cell_type": "markdown",
   "id": "f04d5479",
   "metadata": {},
   "source": [
    "## Classification coins"
   ]
  },
  {
   "cell_type": "code",
   "execution_count": 35,
   "id": "34ae840e",
   "metadata": {},
   "outputs": [
    {
     "name": "stdout",
     "output_type": "stream",
     "text": [
      "radii: [113, 123, 133, 87, 103, 100, 97, 94]\n",
      "bright_values: [185.99375, 96.161875, 84.41, 182.69, 76.233125, 75.30375, 99.4375, 127.390625]\n"
     ]
    }
   ],
   "source": [
    "radii = get_radius(circles=circles)        \n",
    "print(f'radii: {radii}')\n",
    "bright_values = av_pixels_brightness(image=gray_version,size=20,circles=circles)\n",
    "print(f'bright_values: {bright_values}')        "
   ]
  },
  {
   "cell_type": "code",
   "execution_count": 36,
   "id": "7f45a9ff",
   "metadata": {},
   "outputs": [],
   "source": [
    "values = []\n",
    "for radius,bright in zip(radii,bright_values):\n",
    "    if radius > 110 and bright > 150:\n",
    "        values.append(10)\n",
    "    elif radius <= 110 and bright > 150:\n",
    "        values.append(5)\n",
    "    elif radius > 110 and bright < 150:\n",
    "        values.append(2)\n",
    "    elif radius < 110 and bright < 150:\n",
    "        values.append(1)\n",
    "        "
   ]
  },
  {
   "cell_type": "code",
   "execution_count": 37,
   "id": "1b96fd84",
   "metadata": {},
   "outputs": [
    {
     "data": {
      "text/plain": [
       "[10, 2, 2, 5, 1, 1, 1, 1]"
      ]
     },
     "execution_count": 37,
     "metadata": {},
     "output_type": "execute_result"
    }
   ],
   "source": [
    "values"
   ]
  },
  {
   "cell_type": "code",
   "execution_count": 38,
   "id": "09d2febf",
   "metadata": {},
   "outputs": [],
   "source": [
    "count = 0\n",
    "for x,y,r in circles[0,:]:\n",
    "    cv2.putText(output_image,str(values[count])+'p',(x,y),cv2.FONT_HERSHEY_SIMPLEX,2,(0,0,0),3)\n",
    "    count +=1"
   ]
  },
  {
   "cell_type": "code",
   "execution_count": 39,
   "id": "6d7de0fd",
   "metadata": {},
   "outputs": [],
   "source": [
    "total_values = 'Estimated Total Values '+ str(sum(values)) + 'p'"
   ]
  },
  {
   "cell_type": "code",
   "execution_count": 40,
   "id": "e85d68a5",
   "metadata": {},
   "outputs": [
    {
     "data": {
      "text/plain": [
       "array([[[160, 149, 148],\n",
       "        [164, 153, 151],\n",
       "        [157, 146, 145],\n",
       "        ...,\n",
       "        [159, 153, 156],\n",
       "        [157, 152, 155],\n",
       "        [155, 150, 153]],\n",
       "\n",
       "       [[153, 142, 141],\n",
       "        [157, 146, 145],\n",
       "        [166, 155, 154],\n",
       "        ...,\n",
       "        [159, 153, 156],\n",
       "        [157, 152, 155],\n",
       "        [155, 150, 153]],\n",
       "\n",
       "       [[168, 158, 154],\n",
       "        [166, 156, 152],\n",
       "        [164, 153, 151],\n",
       "        ...,\n",
       "        [160, 155, 156],\n",
       "        [159, 154, 154],\n",
       "        [152, 147, 147]],\n",
       "\n",
       "       ...,\n",
       "\n",
       "       [[158, 149, 139],\n",
       "        [165, 156, 145],\n",
       "        [170, 160, 154],\n",
       "        ...,\n",
       "        [172, 166, 164],\n",
       "        [174, 167, 167],\n",
       "        [176, 169, 170]],\n",
       "\n",
       "       [[174, 164, 160],\n",
       "        [168, 158, 154],\n",
       "        [172, 159, 156],\n",
       "        ...,\n",
       "        [171, 167, 167],\n",
       "        [173, 168, 168],\n",
       "        [177, 173, 173]],\n",
       "\n",
       "       [[174, 164, 160],\n",
       "        [172, 161, 158],\n",
       "        [169, 157, 153],\n",
       "        ...,\n",
       "        [173, 168, 168],\n",
       "        [177, 173, 173],\n",
       "        [171, 167, 167]]], dtype=uint8)"
      ]
     },
     "execution_count": 40,
     "metadata": {},
     "output_type": "execute_result"
    }
   ],
   "source": [
    "cv2.putText(output_image,total_values,(200,100),cv2.FONT_HERSHEY_SIMPLEX,1,255)"
   ]
  },
  {
   "cell_type": "code",
   "execution_count": 41,
   "id": "5bb6ae1e",
   "metadata": {},
   "outputs": [
    {
     "data": {
      "text/plain": [
       "-1"
      ]
     },
     "execution_count": 41,
     "metadata": {},
     "output_type": "execute_result"
    }
   ],
   "source": [
    "cv2.imshow(\"Gaussian Smoothing\",output_image)\n",
    "cv2.waitKey(0)"
   ]
  },
  {
   "cell_type": "code",
   "execution_count": null,
   "id": "5897dbd4",
   "metadata": {},
   "outputs": [],
   "source": []
  }
 ],
 "metadata": {
  "kernelspec": {
   "display_name": "Python 3 (ipykernel)",
   "language": "python",
   "name": "python3"
  },
  "language_info": {
   "codemirror_mode": {
    "name": "ipython",
    "version": 3
   },
   "file_extension": ".py",
   "mimetype": "text/x-python",
   "name": "python",
   "nbconvert_exporter": "python",
   "pygments_lexer": "ipython3",
   "version": "3.8.13"
  }
 },
 "nbformat": 4,
 "nbformat_minor": 5
}
